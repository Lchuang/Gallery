{
 "cells": [
  {
   "cell_type": "code",
   "execution_count": 62,
   "id": "4539e691-87f1-48aa-a992-2af6997658ca",
   "metadata": {},
   "outputs": [],
   "source": [
    "from obspy import read\n",
    "from obspy import UTCDateTime\n",
    "import plotly.io as pio\n",
    "pio.renderers.default = 'iframe'\n",
    "import numpy as np"
   ]
  },
  {
   "cell_type": "code",
   "execution_count": 9,
   "id": "58cb3472-a603-4e01-82b5-fc85586611cc",
   "metadata": {},
   "outputs": [],
   "source": [
    "# load in S086\n",
    "path_086 = './20221031_M25/086/'\n",
    "path_JKYD = './20221031_M25/CO.JKYD.00.HH*'"
   ]
  },
  {
   "cell_type": "code",
   "execution_count": 10,
   "id": "ee226d01-eebb-4af7-864e-34d842870a84",
   "metadata": {},
   "outputs": [],
   "source": [
    "# event origin time\n",
    "event_otime = UTCDateTime('2022-10-31 01:33:46')"
   ]
  },
  {
   "cell_type": "code",
   "execution_count": 54,
   "id": "de4104d0-0adf-4b79-a096-f41cdca32b2b",
   "metadata": {},
   "outputs": [],
   "source": [
    "st_086 = read(f\"{path_086}/*\", starttime=event_otime+1.3, endtime=event_otime+4.0)\n",
    "st_jkyd = read(f\"{path_JKYD}\", starttime=event_otime+1.3, endtime=event_otime+4.0)"
   ]
  },
  {
   "cell_type": "code",
   "execution_count": 55,
   "id": "460e2c8c-3bf8-46bf-91d7-4e55d69b7443",
   "metadata": {},
   "outputs": [
    {
     "data": {
      "text/plain": [
       "3 Trace(s) in Stream:\n",
       "CO.JKYD.00.HHE | 2022-10-31T01:33:47.299999Z - 2022-10-31T01:33:49.999999Z | 100.0 Hz, 271 samples\n",
       "CO.JKYD.00.HHN | 2022-10-31T01:33:47.299999Z - 2022-10-31T01:33:49.999999Z | 100.0 Hz, 271 samples\n",
       "CO.JKYD.00.HHZ | 2022-10-31T01:33:47.299999Z - 2022-10-31T01:33:49.999999Z | 100.0 Hz, 271 samples"
      ]
     },
     "execution_count": 55,
     "metadata": {},
     "output_type": "execute_result"
    }
   ],
   "source": [
    "# preprocess waveforms\n",
    "st_086.detrend(\"demean\")\n",
    "st_086.detrend(\"linear\")\n",
    "st_086.normalize(global_max=True)\n",
    "\n",
    "st_jkyd.detrend(\"demean\")\n",
    "st_jkyd.detrend('linear')\n",
    "st_jkyd.normalize(global_max=True)\n",
    "\n",
    "# merge them\n",
    "merged = st_086 + st_jkyd"
   ]
  },
  {
   "cell_type": "markdown",
   "id": "53743604-fd86-48e8-9434-537933d057bc",
   "metadata": {},
   "source": [
    "### Plot waveform"
   ]
  },
  {
   "cell_type": "code",
   "execution_count": 137,
   "id": "58bfa28c-0c18-4d31-8ff9-439bc8c28d3a",
   "metadata": {
    "tags": []
   },
   "outputs": [
    {
     "data": {
      "text/html": [
       "<iframe\n",
       "    scrolling=\"no\"\n",
       "    width=\"620px\"\n",
       "    height=\"620\"\n",
       "    src=\"iframe_figures/figure_137.html\"\n",
       "    frameborder=\"0\"\n",
       "    allowfullscreen\n",
       "></iframe>\n"
      ]
     },
     "metadata": {},
     "output_type": "display_data"
    }
   ],
   "source": [
    "import plotly.graph_objects as go\n",
    "\n",
    "fig = go.Figure()\n",
    "y_labels = []\n",
    "\n",
    "for i, st in enumerate(merged):\n",
    "    sta_name = st.stats.station\n",
    "    channel = st.stats.channel\n",
    "    component = st.stats.component\n",
    "    t = st.times()\n",
    "    d = st.data\n",
    "    if channel == 'DPZ':\n",
    "        d = d * -1\n",
    "    if sta_name == '3020823':\n",
    "        sta_name = 'GT086'\n",
    "    y_labels.append(f\"{sta_name} {component}\")\n",
    "    \n",
    "    fig.add_trace(go.Scatter(x=t, \n",
    "                             y=d+i*2,\n",
    "                             mode='lines', \n",
    "                             line=dict(width=1, color='black'),\n",
    "                             showlegend=False),\n",
    "                 )\n",
    "    \n",
    "    fig.add_annotation(x=0, y=i*2,\n",
    "            text=f\"{sta_name} {component}\",\n",
    "            showarrow=False,\n",
    "            yshift=12,\n",
    "            xshift=3,\n",
    "            xanchor='left',\n",
    "            font_size=16)\n",
    "    \n",
    "fig.add_hline(y=-2, line_width=1)\n",
    "    \n",
    "fig.update_layout(\n",
    "    xaxis_title='Time (s)',\n",
    "    yaxis_title='Normalized amplitude',\n",
    "    title='M2.5 2022-10-31 01:33:46 UTC',\n",
    "    title_y=0.9,\n",
    "    title_font_size=25,\n",
    "    font_size=16,\n",
    "    width=600,\n",
    "    height=600,\n",
    "    template=None,\n",
    "    yaxis=dict(tickvals=[],zeroline=False),\n",
    "    #xaxis=dict(zeroline=False)\n",
    "    \n",
    ")\n",
    "fig.show()\n",
    "fig.write_image('M25.pdf')"
   ]
  },
  {
   "cell_type": "markdown",
   "id": "17428b9d-8bc1-4943-828e-f43d76c4a8d1",
   "metadata": {},
   "source": [
    "### Overlay two waveform"
   ]
  },
  {
   "cell_type": "code",
   "execution_count": 136,
   "id": "0b7f17d2-fb68-4e1d-a755-a13715a38041",
   "metadata": {},
   "outputs": [
    {
     "data": {
      "text/html": [
       "<iframe\n",
       "    scrolling=\"no\"\n",
       "    width=\"620px\"\n",
       "    height=\"370\"\n",
       "    src=\"iframe_figures/figure_136.html\"\n",
       "    frameborder=\"0\"\n",
       "    allowfullscreen\n",
       "></iframe>\n"
      ]
     },
     "metadata": {},
     "output_type": "display_data"
    }
   ],
   "source": [
    "import plotly.graph_objects as go\n",
    "\n",
    "fig = go.Figure()\n",
    "\n",
    "\n",
    "fig.add_trace(go.Scatter(x=merged[5].times(), \n",
    "                         y=merged[5].data,\n",
    "                         mode='lines', \n",
    "                         line=dict(width=1, color='black'),\n",
    "                         showlegend=True, name='JKYD'),\n",
    "                 )\n",
    "\n",
    "fig.add_trace(go.Scatter(x=merged[2].times(), \n",
    "                         y=merged[2].data*-1,\n",
    "                         mode='lines', \n",
    "                         line=dict(width=1, color='red'),\n",
    "                         showlegend=True,\n",
    "                        name='GT086'),\n",
    "                 )\n",
    "\n",
    "    \n",
    "fig.add_hline(y=-1.25, line_width=1)\n",
    "    \n",
    "fig.update_layout(\n",
    "    xaxis_title='Time (s)',\n",
    "    yaxis_title='Normalized amplitude',\n",
    "    title='M2.5 2022-10-31 01:33:46 UTC',\n",
    "    title_y=0.9,\n",
    "    title_font_size=25,\n",
    "    font_size=16,\n",
    "    width=600,\n",
    "    height=350,\n",
    "    template=None,\n",
    "    yaxis=dict(tickvals=[],zeroline=False, range=[-1.25, 1.25]),\n",
    "    legend=dict(x=0.01)\n",
    "    #xaxis=dict(zeroline=False)\n",
    "    \n",
    ")\n",
    "fig.show()\n",
    "fig.write_image('M25_wvcomp.pdf')"
   ]
  },
  {
   "cell_type": "markdown",
   "id": "71a4a128-ab4b-46aa-a04f-a3478f8c1f3a",
   "metadata": {},
   "source": [
    "### Compute and plot spectrum"
   ]
  },
  {
   "cell_type": "code",
   "execution_count": 83,
   "id": "88786ebc-a311-4b79-b046-13fc37b5e156",
   "metadata": {},
   "outputs": [],
   "source": [
    "sts = read('./20221031_M25/for_plot/*.cut')"
   ]
  },
  {
   "cell_type": "code",
   "execution_count": 84,
   "id": "fb419372-8ff1-4b14-a459-ba811ac53a75",
   "metadata": {},
   "outputs": [
    {
     "data": {
      "text/plain": [
       "6 Trace(s) in Stream:\n",
       ".3020823..DPE  | 2022-10-31T01:33:47.664062Z - 2022-10-31T01:33:51.164063Z | 250.0 Hz, 876 samples\n",
       ".3020823..DPN  | 2022-10-31T01:33:47.664062Z - 2022-10-31T01:33:51.164063Z | 250.0 Hz, 876 samples\n",
       ".3020823..DPZ  | 2022-10-31T01:33:47.664062Z - 2022-10-31T01:33:51.164063Z | 250.0 Hz, 876 samples\n",
       "CO.JKYD.00.HHE | 2022-10-31T01:33:47.659997Z - 2022-10-31T01:33:51.159997Z | 100.0 Hz, 351 samples\n",
       "CO.JKYD.00.HHN | 2022-10-31T01:33:47.659997Z - 2022-10-31T01:33:51.159997Z | 100.0 Hz, 351 samples\n",
       "CO.JKYD.00.HHZ | 2022-10-31T01:33:47.659997Z - 2022-10-31T01:33:51.159997Z | 100.0 Hz, 351 samples"
      ]
     },
     "execution_count": 84,
     "metadata": {},
     "output_type": "execute_result"
    }
   ],
   "source": [
    "sts.normalize(global_max=True)"
   ]
  },
  {
   "cell_type": "code",
   "execution_count": 135,
   "id": "e71bbc95-4e63-4b47-bbe5-12ec68889a03",
   "metadata": {},
   "outputs": [
    {
     "data": {
      "text/html": [
       "<iframe\n",
       "    scrolling=\"no\"\n",
       "    width=\"620px\"\n",
       "    height=\"420\"\n",
       "    src=\"iframe_figures/figure_135.html\"\n",
       "    frameborder=\"0\"\n",
       "    allowfullscreen\n",
       "></iframe>\n"
      ]
     },
     "metadata": {},
     "output_type": "display_data"
    }
   ],
   "source": [
    "import obspy\n",
    "from obspy.signal.konnoohmachismoothing import konno_ohmachi_smoothing\n",
    "import obspy.signal.util\n",
    "import numpy as np\n",
    "from numpy.fft import rfft, rfftfreq\n",
    "import matplotlib.pyplot as plt\n",
    "\n",
    "st1 = sts[5]#.normalize()\n",
    "st2 = sts[2]#.normalize()\n",
    "\n",
    "spec, freqs = rfft(st1.data), rfftfreq(st1.stats.npts, st1.stats.delta)\n",
    "spec2, freqs2 = rfft(st2.data), rfftfreq(st2.stats.npts, st2.stats.delta)\n",
    "\n",
    "fig = go.Figure()\n",
    "\n",
    "\n",
    "fig.add_trace(go.Scatter(x=freqs, \n",
    "                         y=np.abs(spec)/np.abs(spec).max(),\n",
    "                         mode='lines', \n",
    "                         line=dict(width=1, color='black'),\n",
    "                         showlegend=True, name='JKYD'),\n",
    "                 )\n",
    "\n",
    "fig.add_trace(go.Scatter(x=freqs2, \n",
    "                         y=np.abs(spec2)/np.abs(spec2).max(),\n",
    "                         mode='lines', \n",
    "                         line=dict(width=1, color='red'),\n",
    "                         showlegend=True,\n",
    "                        name='GT086'),\n",
    "                 )\n",
    "\n",
    "\n",
    "fig.update_xaxes(type=\"log\")\n",
    "fig.update_yaxes(type=\"log\")\n",
    "fig.update_yaxes(dtick=1)\n",
    "fig.update_xaxes(dtick=1)\n",
    "\n",
    "#fig.update_layout(yaxis_tickformat = \".e\")\n",
    "fig.update_layout(\n",
    "    xaxis_title='Frequency (Hz)',\n",
    "    yaxis_title='Amplitude',\n",
    "    #title='M2.5 2022-10-31 01:33:46 UTC',\n",
    "    title_y=0.9,\n",
    "    title_font_size=25,\n",
    "    font_size=16,\n",
    "    width=600,\n",
    "    height=400,\n",
    "    template=None,\n",
    "    yaxis=dict(zeroline=True, showline=True),\n",
    "    legend=dict(x=0.01),\n",
    "    xaxis=dict(zeroline=False, showline=True),\n",
    "    \n",
    ")\n",
    "\n",
    "\n",
    "\n",
    "#plt.figure(figsize=(12, 6))\n",
    "#plt.loglog(freqs, np.abs(spec)/np.abs(spec).max(), label=\"raw\", color=\"red\")\n",
    "#plt.loglog(freqs2, np.abs(spec2)/np.abs(spec2).max(), label=\"raw\", color=\"grey\")\n",
    "#plt.loglog(freqs,\n",
    "#           obspy.signal.util.smooth(abs(spec), 5),\n",
    "#           label=\"moving average\")\n",
    "#plt.loglog(freqs,\n",
    "#           konno_ohmachi_smoothing(abs(spec), freqs, normalize=True),\n",
    "#           label=\"konno ohmachi\")\n",
    "\n",
    "#plt.legend()\n",
    "#plt.show()\n",
    "fig.show()\n",
    "fig.write_image('M25_spectrum.pdf')"
   ]
  },
  {
   "cell_type": "code",
   "execution_count": 139,
   "id": "c0fc50f5-a08b-478a-9e61-edc3995d4dca",
   "metadata": {},
   "outputs": [
    {
     "name": "stdout",
     "output_type": "stream",
     "text": [
      "# packages in environment at /Users/lindsaychuang/opt/anaconda3/envs/scatseisnet:\n",
      "#\n",
      "# Name                    Version                   Build  Channel\n",
      "plotly                    5.13.1                     py_0    plotly\n",
      "\n",
      "Note: you may need to restart the kernel to use updated packages.\n"
     ]
    }
   ],
   "source": [
    "conda list plotly"
   ]
  },
  {
   "cell_type": "code",
   "execution_count": null,
   "id": "8a2d7d2a-be08-41c9-be07-cccbe8eb4781",
   "metadata": {},
   "outputs": [],
   "source": []
  }
 ],
 "metadata": {
  "kernelspec": {
   "display_name": "Python 3 (ipykernel)",
   "language": "python",
   "name": "python3"
  },
  "language_info": {
   "codemirror_mode": {
    "name": "ipython",
    "version": 3
   },
   "file_extension": ".py",
   "mimetype": "text/x-python",
   "name": "python",
   "nbconvert_exporter": "python",
   "pygments_lexer": "ipython3",
   "version": "3.8.16"
  }
 },
 "nbformat": 4,
 "nbformat_minor": 5
}
